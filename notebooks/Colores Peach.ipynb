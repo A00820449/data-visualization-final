{
 "cells": [
  {
   "cell_type": "code",
   "execution_count": 2,
   "id": "b8fa1e7c",
   "metadata": {},
   "outputs": [],
   "source": [
    "import matplotlib.pyplot as plt\n",
    "from matplotlib import cycler\n",
    "\n",
    "\n",
    "colors = cycler('color',\n",
    "                ['#E8570E', '#FF8730', '#E06E48', '#FFA96B', '#E89D80', '#FACAA5', '#E8C6B7'\n",
    "                 ]) \n",
    "plt.rc('axes', facecolor='#F7F6F6', edgecolor='none',\n",
    "       axisbelow=True, grid=True, prop_cycle=colors)\n",
    "plt.rc('grid', color='w', linestyle='solid')\n",
    "plt.rc('xtick', direction='out', color='gray')\n",
    "plt.rc('ytick', direction='out', color='gray')\n",
    "plt.rc('patch', edgecolor='#E6E6E6')\n",
    "plt.rc('lines', linewidth=1)\n",
    "plt.rcParams[\"figure.figsize\"] = (10,8)"
   ]
  }
 ],
 "metadata": {
  "kernelspec": {
   "display_name": "Python 3.10.8 64-bit",
   "language": "python",
   "name": "python3"
  },
  "language_info": {
   "codemirror_mode": {
    "name": "ipython",
    "version": 3
   },
   "file_extension": ".py",
   "mimetype": "text/x-python",
   "name": "python",
   "nbconvert_exporter": "python",
   "pygments_lexer": "ipython3",
   "version": "3.10.8"
  },
  "vscode": {
   "interpreter": {
    "hash": "e7370f93d1d0cde622a1f8e1c04877d8463912d04d973331ad4851f04de6915a"
   }
  }
 },
 "nbformat": 4,
 "nbformat_minor": 5
}
